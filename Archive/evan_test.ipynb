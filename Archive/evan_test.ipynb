{
 "cells": [
  {
   "cell_type": "code",
   "execution_count": 1,
   "outputs": [],
   "source": [
    "def get_all_comments(url):\n",
    "    \"\"\"\n",
    "    Get a map of <comments, votes> from post url\n",
    "    \"\"\"\n",
    "    import comments\n",
    "    reddit = comments.connect()\n",
    "    comments = comments.get_comments(reddit, url)\n",
    "    print(comments)\n",
    "    return comments"
   ],
   "metadata": {
    "collapsed": false,
    "pycharm": {
     "name": "#%%\n"
    }
   }
  },
  {
   "cell_type": "code",
   "execution_count": 2,
   "outputs": [],
   "source": [
    "# load spacy\n",
    "# may have to run: python -m spacy download en_core_web_sm\n",
    "import spacy\n",
    "nlp = spacy.load('en_core_web_sm')"
   ],
   "metadata": {
    "collapsed": false,
    "pycharm": {
     "name": "#%%\n"
    }
   }
  },
  {
   "cell_type": "code",
   "execution_count": 3,
   "outputs": [
    {
     "name": "stderr",
     "output_type": "stream",
     "text": [
      "Version 7.1.0 of praw is outdated. Version 7.1.4 was released 6 days ago.\n"
     ]
    },
    {
     "name": "stdout",
     "output_type": "stream",
     "text": [
      "User: None\n",
      "{\"... it's mouses, right?\\n\\nAnyway, I created a gallery of all the peripherals I've tried this year.\\n\\n[It's a lot!](https://imgur.com/a/ZFl0gNo)\\n\\n&#x200B;\\n\\nSome thoughts.\\n\\n&#x200B;\\n\\n**Razer Viper Ultimate**\\n\\nBy far the best mouse I've ever tried, and my daily driver now. At first I found it slightly too wide and flat, but once my hands got used to the feel I've never stopped using it for very long. The weight and size are perfect for my hybrid claw-palm grip style, and the battery lasts forever. I can pop it onto the dock once a week and go to bed, and return to a fully charged mouse without any interruption to my life!\\n\\n&#x200B;\\n\\n**Razer Basilisk Ultimate**\\n\\nExpensive, heavy, large, I wanted to hate this thing but honestly I am more accurate with this mouse than literally any other mouse I've tried including the RVU. It also lasted surprisingly long, for the amount of LED zones it has - something like 20 hours of use. Biggest surprise for me, but I stuck with the RVU.\\n\\n&#x200B;\\n\\n**Razer Basilisk X**\\n\\nIt's basically the Basilisk shape but bluetooth and requiring a AA battery - I found it too rear-heavy thanks to the battery, and it would often fall out of my hand when lifting the mouse. Also switched off during gaming sessions. I quickly stopped using it. I see it now as a mouse you would get for the office because you've already got a Basilisk V2/Ultimate and enjoy the shape.\\n\\n&#x200B;\\n\\n**Razer Viper Mini**\\n\\nI absolutely love the shape of this mouse, but it often left my hand cramping and the cable is atrocious even with the cable tie mod and a bungee. The day Razer drops a wireless version of this mouse, I'm in.\\n\\n&#x200B;\\n\\n**Razer Deathadder V2 & Mini (not pictured)**\\n\\nI'm one of the five people on Earth that cannot enjoy the shape of the Deathadder. The Mini felt better, but both weren't my favourites. Quickly passed on these guys.\\n\\n&#x200B;\\n\\n**Pwnage Ultra Custom**\\n\\nI loved the customisation available on this mouse, but the shape didn't agree with my hands. You don't get a choice in the sides, those are cheese-grater all the way (though you can buy grips to cover them up), but the standard option comes with two button sets (black and white), four shell sets (black and white, with and without holes), and some extra skates. It's also very lightweight, and can be used with/without the lighting. Battery lasted a full work week.\\n\\n&#x200B;\\n\\n**Logitech G900**\\n\\nMy old daily driver. This one got me to Diamond in Overwatch lol. Nowadays it's a heavier spare to the RVU - gratefully no double-click issues, though G Hub initially did a number on my onboard profiles forcing me to revert to the old Logitech software.\\n\\n&#x200B;\\n\\n**Roccat Kain 122 & 200 Aimo (not pictured)**\\n\\nGenuinely surprising pair, felt comfortable if a little heavy and oddly shaped. The wired 122 came in white and had a glossy texture, but the RGB was ridiculously bright and the only way to adjust it was to color-pick something darker - nice paracord though! The wireless 200 Aimo came in black and had a matte black texture, which enjoyed my fingerprints. Given the price differential I would recommend the 200 over the 122, but both were decent!\": 47, '>mouses': 41, '2020 is the year razer decided to make good mice again :)': 19, \"I was, and still am, hardcore Logitech fan. You just can't beat the gaming/productivity compromise of some of its mice with the Hyperscroll wheel.\\n\\nThat being said, I'm currently using a Viper Pro and I like it a lot. It's much lighter than my G903 while feeling more robust.\\n\\nIt's not without its niggles though. The most stupid thing is how it lights up my room all night when I leave it charging in its stand. Forcing me to turn ALL lighting off in Synapse just to have it not light up when charging at night... Paying for RGB I'll never use.\": 12, 'mouses vs mice\\n\\nfight': 7, 'There is 1 impostor among us': 5, 'Any of these experience button issues? I bought a mamba wireless and the left click had issues with dragging, RMA 2 times and still had the issues.': 3, 'Razer G502 spotted.': 3, 'Is it just Razer keyboards people dog on nowadays? I’ve heard awesome things about their headsets, mice and microphones. Only bad things about their keyboards though.': 3, 'Nice meece, the g900 always reminds me of the batmobile': 3, 'After I have basically disregarded Razer for disappointing me for so long, they basically took steroids or something in 2019 and are back in true form. \\n\\nThe Viper Ultimate was always a \"oh wow, thats great\" for me, I could acknowledge that it was great but I had a hard time justifying spending $150 on a mouse.\\n\\n..Then the Naga Pro happened, and the idea of having two mice tied to the same dock and no wires won me over.': 3, 'That’s-        Logitech..': 3, 'I dont like the new razer designs, the triggers being different pieces of plastic almost always produces rattle': 5, 'Happy cake day! :) \\n\\nThanks for the views and feedback on these mice': 2, 'Razer is balling is what you mean.': 2, 'basilisk v2 is my go to - similar to ultimate but a little lighter. I came from the g502 and wanted something lighter. cord is very soft and I don’t feel held back by it but I’m asking for a mouse bungee for Christmas to see if I can feel a difference': 2, 'You should also give a try to the Naga Pro which just came out, for professional softwares and MMOs that thing is leet': 2, 'any recommendation if I like the basilisk but want something just a bit wider?  My hands are weird shaped (7\"x4.1\").  I like the feel but get a little fatigued \\'squeezing\\' the basilisk or anything more narrow than that.\\n\\nI would say the basilisk x is a good mouse - I\\'ve experienced the same disconnect issues but never when gaming.': 2, 'May i have one?': 2, 'Indeed,they improved a lots this year, happy cake day btw.': 2, 'I discovered in 2077.': 2, 'Are g-wolves mice any good': 2, \"I'm on a Razer naga Trinity. I would like to go wireless. I use the hex attachment of the Trinity. Would you recommend I go Razer Naga pro or RVU?\": 2, 'Do you have a slight creak in the clicks of the viper ultimate? I love mine but sometimes the clicks start creaking': 2, 'Same, I went from g900 to RVU.\\n\\nProbably gonna get the new G pro whenever that drops.': 2, 'Been there with Razer since the beginning. Started with the Deathadder, then Mamba wireless now Viper Ult and Basilisk Ult!': 2, 'I’m guessing you got the early RVU? You should definitely grab the colored ones with their improved clicks bro. It’s extremely loud and very clicky lol.': 2, 'Happy cake day': 2, \"Interesting you perform better with the basilisk, any reason you are sticking with the RVU if you don't do as well? Is it more comfortable to you?\": 2, \"I bought my partner the Razer viper ultimate, after researching a few weeks on the best mouse. \\n\\nShe says it's pretty light, any way to add weight to it?\": 2, 'Mice': 2, \"Having large hands I love the deathadder v2 however on the next refresh I hope they can give it a shell option to take a few grams out. While I feel like the quality really drops on mice lower than the 65 gram mark for large hands I'd like to see how close razer can get and still offer something in par with the deathadder v2.\": 2, 'mice': 2, 'None of those are actually good': 2, \"I've had two G502 lightspeeds, and i loved the mouse but had to return them because it would stop holding right click. \\n\\nWent back to my wired g403, but i miss the wireless part. So i might pick up a Razer Viper ultimate, seems like the best on the market atm. The glorious model O wireless might be an alternative.\": 2, 'Ive got a razer viper, wired this week, but the left and right click have a slight rattle and after 3-4 fays I dont notice it anymore. Is it a problem or just the drsign, cuz idk if  I need to rma it...': 2, 'nice I have the viper ultimate too :) but I want the glorious model o wireless, it is coming!!!!!': 2, 'Agreed on the Viper Mini on all counts. Love the weight, hate how tiny it is. And I have small hands! Switched to the regular Viper and never looked back.': 16, 'My Viper Mini also creampies my hand but I still love it.': 5, \"It's actually gaming mousors.\": 3, \"It's mice in plural, but don't sweat it. Thanks for the thoughts!\": 9, 'When visiting my language school in England, I asked a Cambridge professor whether it\\'s called \"mice\" or \"mouses\".\\n\\nHe said: \"For animals, it\\'s mice. For computers, it\\'s mouses.\"\\n\\n\"Mouses\" is indeed correct, but most people will tell you it\\'s wrong here.': 3, \"what's your handsize?\": 2, \"Out of all the mouses, which one would you say has the lightest and stressless clicks? I play a lot of MOBA and jitter clicking in mandatory; I have the Basilisk X but the clicks are too heavy and the travel distance is a bit more than my old Elecom office mouse. Mouse weight isn't really a factor for me.\\n\\nAnything helps!\": 2, \"Happy Cake Day and let's not forget that Synapse is a crappy software even though I love my Viper\": 2, \"you call this a review? this gets 500 upvotes? shameful this sub never learned to ascend/never had a root to begin with?\\n\\nhttps://www.reddit.com/r/MouseReview/comments/gkvu0n/razer_basilisk_gen_2_wip_in_depth_review_by_top/\\n\\n\\noh look, it's even archived, even tho i delayed the notion to post at all for so long.\": -1, 'Three blind mouses': 16, 'I said what I said.': 13, 'Yeah, hot damn. I HATED them before. The thought of owning a Razer product made me dry-heave. And now, here I am. \\n\\nHow the turn tables...': 12, 'Not sure about viper but for me i have created a separate profile same as my main but just with rgb turned to 0 and switch to it in the night or whenever my bat is low': 4, \"Yeah, that's unfortunately a trade-off with Razer. You're paying for the RGB and their esports marketing when you buy into the brand. \\n\\nLike you though, coming from the G9xx shape to the RVU feels sooooooo good once you make peace with the fact it's a Razer product.\": 2, 'Here comes a new challenger... \\n\\nMeece.': 6, 'Logi sus.': 5, \"I have heard really bad things about the QC of the mamba line. My one friend has it and complains all the time about how shitty his mouse is.\\n\\nJust going by reviews I think the mamba ones had the most complaints of any of Razer's products. The viper brings that down.\": 3, 'I got insanely lucky. The worst I had was the Basilisk X occasionally losing its signal and requiring a restart. The Viper Mini suffers from the known high LOD issue that Razer recently fixed with a firmware update. Otherwise, no real issues to speak of.': 1, \"The G502 is popular for a reason, but man that premium feel of the Basilisk Ultimate sure is something. And never having to worry about the double-click Omron issue too. Big flex on Logitech's classic.\": 1, \"The Blackwidow is still terrible lol. The Huntsman is better, though still room for improvement. I would say it does at least look like they're actively working on improving.\": 2, \"It's certainly the most gamer-y thing I've owned hahahaha and it's built like a truck, you could actually kill a person if you threw this at someone.\": 2, \"It's soooooooo satisfying, and I love that Razer basically lets you buy JUST the mouse, so you can have an ecosystem without much wastage.\": 1, 'Hey what can I say, I suck at titles.': 1, \"The Basilisk Ultimate is exceedingly premium-feeling, nothing about it feels plastic. But it's obviously very expensive to balance things out. \\n\\nI do agree the plastic being a bit creaky isn't great, but honestly I'm preferable to this over cheese graters.\": 5, \"A pleasure! I've been putting off posting for a while, figured cake day was a sign from the Reddit gods to finally do it.\": 1, 'Dang I didn’t realize it was only 92g. I got the GPW, but just grabbed a good old MX518G and it’s amazing. That shape is all I used for most of my gaming career. Didn’t realize the Basilisk is actually lighter than that.': 3, \"The bungee helps but it's not going to fix the cable feel entirely, unfortunately. But yeah, agreed. A lighter, sleeker, arguably sexier G502. \\n\\nThere's copying and then there's refining.\": 2, \"Considering giving it a bash just to laugh at how clumsy I'll be while getting used to it haha.\": 1, 'Sounds like what you want is a Deathadder V2?': 1, \"You certainly can if you buy one off Amazon or your region's equivalent! ;)\": 1, 'Thank you, and agreed!': 2, 'Damn you must be living in 3020.': 1, \"Afraid I haven't tried these.\": 2, 'Sounds like the Naga Pro for you, if the hex attachment is core to your experience. The RVU has two buttons on either side, likely not enough.': 2, \"I did initially, but I feel it went away naturally over time. I've heard if you press it in with some extra force, the plastic gets pushed down enough that the creaks go away, worth a try?\": 1, \"The G Pro Superlight? It's intriguing me haha. How do you feel about the RVU?\": 1, 'Happy to join the squad now. ;)': 1, 'What about the side buttons are they still so much built into the body and because of this harder to reach or press in sometimes in gaming ?': 1, 'I quite enjoy the muted clicks - it makes life easier when playing MOBAs.': 1, 'Thank you!': 1, \"Yeah so it's the weight and the price of it, honestly. The Basilisk Ultimate is EXPENSIVE and therefore quite tough to justify. It also weighs your hand down during longer gaming periods. I find the RVU is a comfortable middle ground of all things including weight, price, performance, and shape.\": 2, \"Get heavier batteries, I'm not sure if it's lithium or the others but some are heavier.\": 2, \"Never thought I'd see the day when the mouse would be considered too light haha. Well, as mentioned you could swap out the lithium battery for something heavier but I'm not sure how much weight that will add. The only other thing I could suggest is heavier skates on the feet. I guess you could buy mouse weights (like the ones that come with the G502) then stick them inside the mouse? \\n\\nPossible word of warning, you may need to replace the skates anyway, if you open up the mouse.\": 2, 'Meece?': 1, \"Guessing you still want the same size of mouse? The Deathadder Mini is basically doing what you're asking, but it is considerably smaller.\": 1, 'Mayce?': 1, \"You're right, they're great!\": 2, \"Same here, once you cut the wire there's really no going back. Sadly for my Viper Mini.\": 1, \"I had the same but like you, it went away. Hasn't returned since. I think you're good, but if you want to RMA it I'm sure the retailer will honour it.\": 1, \"I went back and forth until one day I didn't want to use the Mini any more. It's the cable, honestly. Wireless Viper Mini when???\": 5, 'Fill me up with Chroma.': 6, '\\\\*Smash Bros music plays\\\\* \\n\\nDaddy Razer joins the battle.': 2, 'When referring to the computer input device and not the rodent, the plural form mouses is correct.': 8, 'Is it not like fish, fish, fishes. Fish is plural if the same type, fishes plural of different types? Or have I been lied to all this time?': 1, \"That's alright, as long as we can agree as a society that it's not mousors.\": 2, \"At least buy me a drink first. ;) \\n\\nIt's something like 19cm x 10cm (not sure what this is in Yankee units?) - so I would say medium-sized.\": 3, \"This is a huuuuuuuuge part of why I love the RVU - the clicks are comparable to a good tactile switch on a keyboard. You do feel the click, but you barely hear it. It's much more muted, and so better for my home environment when playing Dota 2. \\n\\nSurprisingly, the crispest clicks came from the Roccat Kain 200. But these are quite noisy and more in-line with standard Logitech click sounds (Omron?).\": 1, 'Ah yes, the worst software in the world lol. Agreed, and thank you!': 2, \"We can share this subreddit. ;) \\n\\nI enjoyed your post, thanks for sharing it here as well. Hopefully more people see it. \\n\\nAs I'm a freelance reviewer for a website, I'd like to provide some tips: \\n\\nPeople don't enjoy reading long paragraphs any more (if we wanted a book, we'd read a book lol) - so having bullet points summarising at the top helps a lot. Having pictures also helps, so people can visualise what you're saying. You can still add long explanations after, but ensure you've got the summarised points out of the way first. \\n\\nLooking forward to more posts from you!\": 3, 'See how they track.': 6, \"Same. After having my 2013 deathadder break from just dropping it 1 foot on my desk, then having my replacement deathadder's grips just peel off i dropped them forever until the viper came out\\n\\nStill had mushy clicks but it could be worst for how well it functioned\": 3, 'Big brain thinking, this. Nice one.': 3, 'Im reporting this comment': 2, 'Non RGB sus': 2, 'I am just gonna stick with logitech for now.': 3, \"Haha I'll bear that in mind 😂, it does look well built. Happy Cake Day!\": 2, 'Not really, i owned it and the viper, both feel good in the first week but after a while the buttons start loosening up and the clicks feel light as fuck and they produce a lot of rattle and wobble, the side buttons on the viper are complete shit and the basilisk will almost always start to tip over when you press the very end of the right click after the glides get used for a bit, nice mouse and i regret them not making it better but for what it is its way overpriced and needs some refining to justify its price tag': 1, 'yeah I was excited when I found out. I tried using the glorious and coolermaster ultra light models but couldn’t get over missing the thumb rest from the 502. I bet v2 will go on sale next week for black Friday so keep an eye out if you want yet one more lol': 2, 'Yeah it was delayed to 3019.': 2, 'Thanks for pushing me off the edge. Ordering.': 2, 'I’ve never hit em during gaming. They’re well fit into the mouse still but you can feel the bump of em when you run your fingers over it. Never once have I hit them during gaming though. I do think they are a bit hard to press but it is very very minor to bother me, it would make sense to avoid accidental clicks lol. There is a Mercury vs black RVU comparison video i suggest you to watch by Galahad, he explains the side buttons upgrade.': 2, \"Yeeeeeeah this is definitely a thing on the original Viper Ultimates lol. You do get used to it, but it's clumsy. I would love if Razer let you change these out.\": 1, 'Thank you! I was thinking this.': 2, \"Yeah I don't want smaller at all.\": 2, 'Also the deathadder mini I want to say has a lesser sensor and no optical switches I think.': 2, 'maaaa - iiiisss': 2, \"100% true.\\n\\nWhat would you recommend? I kinda dig the shape of the 502 or viper. \\n\\nI normally use a logitech mx master at work, and that's a bit to big imo.\": 2, 'Welp, I hope it doesent get worse, cuz if it stays this way I dont have a problem either, I really like the mouse, the feet are nice, good sensor and nice shape, but still need time to get used to it.': 2, 'how do you have so many mice , did you return some or you just like collecting?': 3, 'Yes and no. \\n\\nOfficially i don\\'t believe there is a plural for \"computer mouse\", so we can only go with mouse (rodent), where it would be mice. Since there is no official plural, technically mouses is just as \"correct\", but based on searches etc. most people would consider mice \"more\" correct. This is most likely also why the other comments went \"LUL he said mouses\", because it sounds wrong and is probably considered wrong by a majority.': 11, 'English is not my native language, but i do believe fish is both the singular and plural form in most cases, but if you have different types, you can refer to them as fishes :)! \\n\\nKind of how sheep is both singular and plural.': 5, \"Of course, because it's actually browsors.\": 2, \"Ty for no salt XD. \\n\\nyes, indeed. But as I have limited time and resources (it's not like I wouldn't use a Red camera for this if I can afford to, for how much I love this hobby/gaming) so I'm kinda a perfectionist in many ways so I either do some certain ways or not at all.\\n\\nAnd it helps that not many people do raw ghetto shit, but most importantly I will further push original thought process, all of which without being too twit-longer ;p\": 2, 'I had my Deathadder last me 6 years, absolutely love that mouse.': 3, 'As Logitech owners say, you either die a Hero...': 2, 'Cheese grater mouses venting.': 2, 'Which do you have?': 1, 'Hmm, interesting. I had a different experience. The creakiness on my RVU is all but gone now. There is still a light rattle that I assume comes from the scroll wheel or sensor but again given the weight and lack of holes I\\'m willing to accept. \\n\\nSorry it didn\\'t work out for you though. I hope whatever \"V2\" of the Viper that Razer comes out in future justifies its price to you. ;)': 2, 'My wife keeps asking me why I need another mouse and I keep saying it’s a backup! 😂': 3, 'I hope it gives you happiness and comfort! Enjoy!': 1, \"If you can afford it, the Viper Ultimate. If it's a bit too expensive then maybe the Model O Wireless? I haven't tried the Model O yet but YouTube reviewers have praised it a lot.\": 1, \"Here's hoping!\": 2, 'Some were review units (I freelance for a website in South Africa) and others were my own money. Lockdown, stuck at home, nothing but time to experiment really.': 3, 'https://www.merriam-webster.com/dictionary/mouse\\n\\nhttps://www.oxfordlearnersdictionaries.com/us/definition/english/mouse_1\\n\\nhttps://ahdictionary.com/word/search.html?q=mouses&submit.x=50&submit.y=29\\n\\nEnglish doesn’t have an official dictionary.': 2, 'Hey Siri, how can I delete a comment from the internet.': 3, \"Original thought is a foundation for all good content, so here's hoping yours makes a big splash on here soon. ;)\": 2, 'Hey im sure. I have had at least 7+ logi products with NO double clicking. Just makes me wonder what the error rates are for most companies. Only glorious discloses this. If razer sells 2 mil death adders and only .01 fuck up, thats 20k pissed off customers which doesnt seem like a lot but on the internet it is x)\\n\\nI was just unlucky with the razer products i had.': 3, '403': 2, 'I may have gotten a defective item but the exact same issues were really common, i just hope they can fix the problems and keep the look because id use that mouse just for the looks': 2, '\"My hand hurts with this one.\" has been my excuse thus far haha.': 3, 'Just before I click purchase. Are there any more wireless options like the naga with the hex pad?': 1, 'ok nice, I might buy a model o wireless or a Aerox 3 moving from a very bad mouse': 2, \"Yes, so while i was incorrect saying mice was definitely the plural of computer mouse, saying mouses is the correct one is equally incorrect looking at your links, yes? All of them suggest you can use both mice or mouses, as i said in my correction.\\n\\nDidn't know english had no official dictionary though, interesting.\": 1, 'haha nah they are too good for me here sometimes :)': 2, 'Its not a error rate or something. Its a design problem from Logitech. The problem is only present on modern mice mostly 2019+ and has to do with the low power circuit modern mice use these days and omron switches are not designed for this.': 4, \"This is true. Even a 0,1% fail rate on a popular product can have a massive effect on reputation. \\n\\nI had one Logitech mouse that had the double-click issue - gratefully this was successfully replaced via manufacturer warranty and I haven't experienced the issue since.\": 2, \"The 403 is an excellent mouse, I think you're making the right call. ;)\": 1, \"I didn't know about that issue. For a 69g mouse it feels well put together and the buttons after using it for 2 weeks still worked great.\\n\\nHad to return it though because it had doubleclicking issues right out of the box but my friend's been using this mouse for 7 months with no issues whatsoever. \\n\\nI personally really like the ambidextrous shape because it lets me fingertip the mouse comfortably.\": 1, 'Hahaha I’ll have to start using that one. I have three mice for work (M510 and M705), a G502 SE at my actual work, GPW for gaming and the MX 518G as my backup haha.': 2, \"On that I'm not sure, you may need to do some searching or maybe post to the subreddit asking?\": 2, \"I've heard great things about the Model O Wireless. Whatever you go with, I hope it gives you joy!\": 3, \"**Oxford**:\\n\\n>(plural **mice** or **mouses**)  \\n>  \\n>*(computing)* a small device that is moved by hand across a surface to control the movement of the [cursor](https://www.oxfordlearnersdictionaries.com/us/definition/english/cursor) on a computer screen \\n\\n**Webster**:\\n\\n>*plural also* **mouses** **:** a small mobile manual device that controls movement of the cursor and selection of functions on a computer display \\n\\nUltimately, it's whatever sounds right to you. But we can't hold a peripheral computer device to the same standard as the actual animal it's named after, simply because the two are nowhere related in any sense of their being other than namesake lol. Words are just . . . words.\\n\\nAnyway, this is one of those words that we should be happy to accept multiple forms of plurality simply *because* they are nothing alike. \\n\\nMyself, I say computer mouses. I've got undergrad and graduate degrees in English and work in the professional writing industry, and if the term came up in a formal setting, I would stand by my usage of mouses when referring to the computer peripheral. \\n\\nNonetheless, mice sounds fine too if you prefer that. (:\": 5, 'I thought it was specifically the Omron 50M switches they used?': 3, 'Yep. Glorious can confirm': 3, \"yea except this is my problem with the mouse: https://www.reddit.com/r/MouseReview/comments/jue3a3/g403_weird_rgb_and_clicks/\\n\\nand I am trying to RMA but it's extremely difficult to for some reason: https://www.reddit.com/r/LogitechG/comments/jw1087/cant_file_a_warranty_claim/\": 2, 'I mean at some point we have to admit we have a problem right? But that day is not today! ;)': 1, 'you should really try slapping some hotline grips v2 on the viper mini. rly makes a difference imo and yea the cable is pretty wack :/': 2, 'thankyou': 2, 'Happy Cake Day!': 2, \"Now there's a brand of mouse I'm keen to try. Just as soon as they give me an option without holes.\": 3, 'Women have shoes, clothes, and coffee. We have to get something too!!': 2, \"Out of stock, last I checked. But I'm 100% with you on this idea, and will give it another try.\": 1, 'Everyone gets something they like. ;)': 1, 'u should get them off aliexpress maybe if you dont mind the shipping times. with the new customer discount, its rly cheap.\\n\\nhttps://m.aliexpress.com/item/4001176938958.html': 2}\n"
     ]
    }
   ],
   "source": [
    "post = get_all_comments(\"https://www.reddit.com/r/MouseReview/comments/jvvt6e/2020_is_the_year_i_discovered_actually_good_razer/\")"
   ],
   "metadata": {
    "collapsed": false,
    "pycharm": {
     "name": "#%%\n"
    }
   }
  },
  {
   "cell_type": "markdown",
   "source": [
    "### Get named entities from each comment instead of the entire thing\n",
    "Current Problems:\n",
    "\n",
    "* Too many non-product labels\n",
    "* Some products get cut off (only recognizes part of the product)"
   ],
   "metadata": {
    "collapsed": false
   }
  },
  {
   "cell_type": "code",
   "execution_count": 4,
   "outputs": [],
   "source": [
    "# per comment recognition\n",
    "entities = []\n",
    "for comment in post.keys():\n",
    "    doc = nlp(comment)\n",
    "    for ent in doc.ents:\n",
    "        entities.append(ent.text)\n",
    "        # print(ent.text, ent.label_)\n",
    "\n",
    "# View NE\n",
    "# for s in entities:\n",
    "#    print(s)"
   ],
   "metadata": {
    "collapsed": false,
    "pycharm": {
     "name": "#%%\n"
    }
   }
  },
  {
   "cell_type": "code",
   "execution_count": 5,
   "outputs": [],
   "source": [
    "# freq list of entities\n",
    "def get_entity_freq(entities: list) -> dict:\n",
    "    \"\"\"\n",
    "    get frequency dictionary of the found labels\n",
    "    across all individual comments\n",
    "    \"\"\"\n",
    "    count = {}\n",
    "    for label in entities:\n",
    "        if label in count:\n",
    "            count[label] += 1\n",
    "        else:\n",
    "            count[label] = 1\n",
    "    return count\n",
    "\n",
    "freq = get_entity_freq(entities)"
   ],
   "metadata": {
    "collapsed": false,
    "pycharm": {
     "name": "#%%\n"
    }
   }
  },
  {
   "cell_type": "code",
   "execution_count": 6,
   "outputs": [],
   "source": [
    "def sort_by_value(wfd: dict) -> list:\n",
    "    \"\"\"\n",
    "    dict to sorted list of tuples by value\n",
    "    \"\"\"\n",
    "    sbv_dict = sorted(wfd.items(), key=lambda t: t[1], reverse=True)\n",
    "    for k in sbv_dict:\n",
    "        if not k[1] <= 2:\n",
    "            print(k)\n",
    "    # for k,v in sbv_dict.items():\n",
    "        # print(\"{} : {} \".format(k, v))\n",
    "    return sbv_dict"
   ],
   "metadata": {
    "collapsed": false,
    "pycharm": {
     "name": "#%%\n"
    }
   }
  },
  {
   "cell_type": "code",
   "execution_count": 7,
   "outputs": [
    {
     "name": "stdout",
     "output_type": "stream",
     "text": [
      "('Razer', 14)\n",
      "('RVU', 8)\n",
      "('Logitech', 7)\n",
      "('one', 5)\n",
      "('two', 5)\n",
      "('Razer Viper', 3)\n",
      "('Deathadder', 3)\n",
      "('122', 3)\n",
      "('200', 3)\n",
      "('English', 3)\n"
     ]
    }
   ],
   "source": [
    "sort_by_value(freq);\n"
   ],
   "metadata": {
    "collapsed": false,
    "pycharm": {
     "name": "#%%\n"
    }
   }
  },
  {
   "cell_type": "markdown",
   "source": [
    "Get post content /vote"
   ],
   "metadata": {
    "collapsed": false,
    "pycharm": {
     "name": "#%% md\n"
    }
   }
  },
  {
   "cell_type": "code",
   "execution_count": 12,
   "outputs": [
    {
     "name": "stdout",
     "output_type": "stream",
     "text": [
      "User: None\n",
      "(\"I love that there are communities such as these to help CS students in their school and their careers. Lots of invaluable advice and insight can be taken from places such as these.\\n\\nIt's an unfortunate reality that there will be toxicity in basically any community you go to. In CS, that toxicity often tends to take the form of extreme pride and arrogance. The idea that you're a failure if you don't get that internship/job at one of the most prestigious companies, that you're doing something wrong if you're not leetcoding 23/7, and conceited and egotistical people making you feel inferior to them bc they've had an internship at a Big N.\\n\\nI don't know who needs to hear this, but absolutely none of this speaks for your worth. I know the race can get to people's heads and it's very very easy to feel like you're not good enough if you're not achieving ridiculous goals. This impacts people's sense of self worth, confidence, and gives them impostor syndrome.\\n\\nI know several people who work both at big tech companies and not. After you break it into industry, it stops becoming such a huge deal. I know people who make less money at smaller companies, who get messages from recruiters at Google, Facebook, Netflix, w/e, but wouldn't leave for the world, because they're happier there. At the end of the day, being a software engineer will still mean you're one one of the most well-valued professionals in the world. You'll be well off, whether you get a FAANG-type job or not.\\n\\nWorking in this industry isn't just about prestige. It's finding a place where you can have a good work-life balance, a place where you can enjoy financial stability, and most importantly, a place you actually look forward to going to every morning.\\n\\nIf you don't get the job you want right out of college, it's not the end of the world. You work in industry for a few years, better yourself, keep learning, and never stop trying. It'll happen for you sooner or later.\\n\\nAnd please, lift each other up, help each other in this quest, don't tear each other down. You don't know the person on the other side of the screen, you don't know what damage you might be causing them when you tear them down to make yourself feel better.\\n\\n[https://www.tiffanymatthe.com/not-extraordinary](https://www.tiffanymatthe.com/not-extraordinary)\\n\\nPlease don't be rude in the comments. I'm bringing this up because it needs to be said once in a while, and especially now with recruiting season upon us.\\n\\nBest of luck to everyone this recruiting season! Keep your ideals high, your hopes higher, and never let small failures stop you from continuing to strive to be the best YOU you can be.\", 383)\n"
     ]
    }
   ],
   "source": [
    "def get_url_post(url):\n",
    "    import comments\n",
    "    reddit = comments.connect()\n",
    "    post = comments.get_post(reddit, url)\n",
    "    print(post)\n",
    "\n",
    "get_url_post(\"https://www.reddit.com/r/csMajors/comments/ifxepi/reminder_that_faang_is_not_the_beallendall_of_cs/\")"
   ],
   "metadata": {
    "collapsed": false,
    "pycharm": {
     "name": "#%%\n"
    }
   }
  },
  {
   "cell_type": "code",
   "execution_count": null,
   "outputs": [],
   "source": [],
   "metadata": {
    "collapsed": false,
    "pycharm": {
     "name": "#%%\n"
    }
   }
  }
 ],
 "metadata": {
  "kernelspec": {
   "display_name": "Python 3",
   "language": "python",
   "name": "python3"
  },
  "language_info": {
   "codemirror_mode": {
    "name": "ipython",
    "version": 2
   },
   "file_extension": ".py",
   "mimetype": "text/x-python",
   "name": "python",
   "nbconvert_exporter": "python",
   "pygments_lexer": "ipython2",
   "version": "2.7.6"
  }
 },
 "nbformat": 4,
 "nbformat_minor": 0
}